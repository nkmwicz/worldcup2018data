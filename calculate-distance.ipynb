{
 "cells": [
  {
   "cell_type": "code",
   "execution_count": 1,
   "metadata": {},
   "outputs": [],
   "source": [
    "import math"
   ]
  },
  {
   "cell_type": "code",
   "execution_count": 2,
   "metadata": {},
   "outputs": [],
   "source": [
    "# define pitch dimensions\n",
    "pitch_length = 115\n",
    "pitch_width = 75"
   ]
  },
  {
   "cell_type": "code",
   "execution_count": null,
   "metadata": {},
   "outputs": [],
   "source": [
    "def coords_to_meters(x, y):\n",
    "  \"\"\"\n",
    "  Turn the x and y coordinates into locations on field based on meters\n",
    "  \"\"\"\n",
    "  x_meters = (x / 100) * pitch_length\n",
    "  y_meters = (y / 100) * pitch_width\n",
    "\n",
    "  return x_meters, y_meters\n",
    "\n",
    "def calculate_distance(x1, y1, x2, y2):\n",
    "  \"\"\"\n",
    "  Turn the x and y coordinates into locations on field based on meters\n",
    "  \"\"\"\n",
    "  start_x, start_y = coords_to_meters(x1, y1)\n",
    "  end_x, end_y = coords_to_meters(x2, y2)\n",
    "  distance = math.sqrt((end_x - start_x)**2 + (end_y - start_y)**2)\n",
    "  return distance\n",
    "\n",
    "  return math.sqrt((x2 - x1)**2 + (y2 - y1)**2)"
   ]
  }
 ],
 "metadata": {
  "kernelspec": {
   "display_name": "jupyterlab",
   "language": "python",
   "name": "python3"
  },
  "language_info": {
   "codemirror_mode": {
    "name": "ipython",
    "version": 3
   },
   "file_extension": ".py",
   "mimetype": "text/x-python",
   "name": "python",
   "nbconvert_exporter": "python",
   "pygments_lexer": "ipython3",
   "version": "3.11.5"
  }
 },
 "nbformat": 4,
 "nbformat_minor": 2
}
